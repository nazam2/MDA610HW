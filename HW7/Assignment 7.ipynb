{
 "cells": [
  {
   "cell_type": "code",
   "execution_count": 163,
   "metadata": {},
   "outputs": [
    {
     "data": {
      "text/plain": [
       "{'Mean': 48.5,\n",
       " 'Variance:': 92.25,\n",
       " 'Standard deviation': 0.00011750795014725215}"
      ]
     },
     "execution_count": 163,
     "metadata": {},
     "output_type": "execute_result"
    }
   ],
   "source": [
    "#1  Write a function to compute the mean, (sample) variance and (sample) standard deviation \n",
    "#   of a list of floating-point numbers passed to the function\n",
    "\n",
    "stat= {}\n",
    "def comp(num):\n",
    "    count=len(num)\n",
    "    mean=sum(num)/count\n",
    "    stat['Mean']=mean\n",
    "    squared= []\n",
    "    for i in num:\n",
    "        st= (i-mean)**2\n",
    "        squared.append(st)\n",
    "    stat['Variance:']= (sum(squared))/len(num)\n",
    "    stat['Standard deviation']=((sum(squared))/len(num))**-2\n",
    "    return(stat)\n",
    "\n",
    "raw = [63,38,42,51]\n",
    "\n",
    "comp(raw)"
   ]
  },
  {
   "cell_type": "code",
   "execution_count": 238,
   "metadata": {},
   "outputs": [
    {
     "name": "stdout",
     "output_type": "stream",
     "text": [
      "Input numbers separated by commas and type stop when done : 33,47,58,29,stop\n"
     ]
    },
    {
     "data": {
      "text/plain": [
       "33.0"
      ]
     },
     "execution_count": 238,
     "metadata": {},
     "output_type": "execute_result"
    }
   ],
   "source": [
    "#2  User is allowed to input as many numbers as she/he wants. \n",
    "#   After the user enters \"stop\" instead of a number, the function computes and returns the \n",
    "#.  mean value.\n",
    "\n",
    "def mean():\n",
    "    x = input(\"Input numbers separated by commas and type stop when done : \")\n",
    "    lists = x.split(\",\")\n",
    "    \n",
    "    new=[]\n",
    "\n",
    "    for i in lists:\n",
    "        if i =='stop':\n",
    "            break\n",
    "        else:\n",
    "            new.append(int(i))\n",
    "        avg = sum(new)/len(new)\n",
    "        return avg\n",
    "    \n",
    "mean()\n"
   ]
  }
 ],
 "metadata": {
  "kernelspec": {
   "display_name": "Python 3",
   "language": "python",
   "name": "python3"
  },
  "language_info": {
   "codemirror_mode": {
    "name": "ipython",
    "version": 3
   },
   "file_extension": ".py",
   "mimetype": "text/x-python",
   "name": "python",
   "nbconvert_exporter": "python",
   "pygments_lexer": "ipython3",
   "version": "3.7.3"
  }
 },
 "nbformat": 4,
 "nbformat_minor": 2
}
