{
 "cells": [
  {
   "cell_type": "code",
   "execution_count": 217,
   "metadata": {},
   "outputs": [
    {
     "name": "stdout",
     "output_type": "stream",
     "text": [
      "Count of charachters: {'d': 1, 'a': 4, 't': 2, ' ': 1, 'n': 1, 'l': 1, 'y': 1, 'i': 1, 'c': 1, 's': 1}\n"
     ]
    }
   ],
   "source": [
    "#1 Write a function freq to count occurrences of each distinct character in a given string.\n",
    "\n",
    "test_str = \"data analytics\"\n",
    "freq = {} \n",
    "\n",
    "for i in test_str: \n",
    "        if i in freq: \n",
    "            freq[i] += 1\n",
    "        else: \n",
    "            freq[i] = 1\n",
    "\n",
    "print(\"Count of charachters:\" , freq)"
   ]
  },
  {
   "cell_type": "code",
   "execution_count": 66,
   "metadata": {},
   "outputs": [
    {
     "name": "stdout",
     "output_type": "stream",
     "text": [
      "(14, 75)\n"
     ]
    }
   ],
   "source": [
    "#2 Write a function min_and_max to find the minimum and maximum of a list.\n",
    "alist = [20, 30, 45, 75, 18, 14, 32, 65]\n",
    "min_and_max= min(alist), max(alist)\n",
    "print(min_and_max)\n"
   ]
  },
  {
   "cell_type": "code",
   "execution_count": 181,
   "metadata": {},
   "outputs": [
    {
     "name": "stdout",
     "output_type": "stream",
     "text": [
      "[ 1  6  8 14]\n"
     ]
    }
   ],
   "source": [
    "#3 Write a function cum_sum to compute the cumulative sum of a list. \n",
    "import numpy as np\n",
    "cum_sum = np.array([1,5,2,6])\n",
    "print(np.cumsum(cum_sum))"
   ]
  },
  {
   "cell_type": "code",
   "execution_count": 182,
   "metadata": {},
   "outputs": [
    {
     "name": "stdout",
     "output_type": "stream",
     "text": [
      "22\n"
     ]
    }
   ],
   "source": [
    "#4 Write a function dot that takes two lists of equal length as arguments\n",
    "import numpy as np\n",
    "x = np.array([1, 5, 2, 6])\n",
    "y = np.array([0, 2, 3, 1])\n",
    "print(np.dot(x, y))"
   ]
  }
 ],
 "metadata": {
  "kernelspec": {
   "display_name": "Python 3",
   "language": "python",
   "name": "python3"
  },
  "language_info": {
   "codemirror_mode": {
    "name": "ipython",
    "version": 3
   },
   "file_extension": ".py",
   "mimetype": "text/x-python",
   "name": "python",
   "nbconvert_exporter": "python",
   "pygments_lexer": "ipython3",
   "version": "3.7.3"
  }
 },
 "nbformat": 4,
 "nbformat_minor": 2
}
