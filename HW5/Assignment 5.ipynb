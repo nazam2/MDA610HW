{
 "cells": [
  {
   "cell_type": "code",
   "execution_count": 31,
   "metadata": {},
   "outputs": [
    {
     "name": "stdout",
     "output_type": "stream",
     "text": [
      "please enter grades here: 66\n",
      "D\n"
     ]
    }
   ],
   "source": [
    "#1 User will input a numeric grade and output will be the corresponding letter grade\n",
    "grades=int(input(\"please enter grades here: \"));\n",
    "if grades >=90:\n",
    "    print(\"A\");\n",
    "elif grades >=80:\n",
    "    print(\"B\");\n",
    "elif grades >=70:\n",
    "    print(\"C\");\n",
    "elif grades >=60:\n",
    "    print(\"D\") \n",
    "else :\n",
    "    print(\"F\")"
   ]
  },
  {
   "cell_type": "code",
   "execution_count": 42,
   "metadata": {},
   "outputs": [
    {
     "name": "stdout",
     "output_type": "stream",
     "text": [
      "{1, 13, 3, 5}\n"
     ]
    }
   ],
   "source": [
    "#2 two given lists and a new list that contains the elements common to both lists.\n",
    "a = [1, 2, 3, 5, 8, 13]\n",
    "b = [5, 3, 1, 9, 10, 13]\n",
    "c = set(a) & set(b) \n",
    "for i in a:\n",
    "    if i in b and i not in c:\n",
    "        c.append([i])\n",
    "print(c)"
   ]
  },
  {
   "cell_type": "code",
   "execution_count": 109,
   "metadata": {},
   "outputs": [
    {
     "name": "stdout",
     "output_type": "stream",
     "text": [
      "1 2 3 4 5 \n",
      "2 4 6 8 10 \n",
      "3 6 9 12 15 \n",
      "4 8 12 16 20 \n"
     ]
    }
   ],
   "source": [
    "#3 loops to output the following matrix.\n",
    "a = [[1, 2, 3, 4, 5]]\n",
    "for i in range(4):\n",
    "    for j in range(1,6):\n",
    "        print((i +1)*j, end=' ')\n",
    "    print()\n",
    "  "
   ]
  },
  {
   "cell_type": "code",
   "execution_count": 110,
   "metadata": {},
   "outputs": [
    {
     "name": "stdout",
     "output_type": "stream",
     "text": [
      "200,202,204,206,208,220,222,224,226,228,240,242,244,246,248,260,262,264,266,268,280,282,284,286,288,400\n"
     ]
    }
   ],
   "source": [
    "#4 Output the numbers between 100 and 400 (both included) where all three digits of a number are even. The numbers printed out are separated by commas.\n",
    "items = []\n",
    "for i in range(100, 401):\n",
    "    s = str(i)\n",
    "    if (int(s[0])%2==0) and (int(s[1])%2==0) and (int(s[2])%2==0):\n",
    "        items.append(s)\n",
    "print( \",\".join(items))\n"
   ]
  },
  {
   "cell_type": "code",
   "execution_count": 85,
   "metadata": {},
   "outputs": [
    {
     "name": "stdout",
     "output_type": "stream",
     "text": [
      "Counter({'c': 400, 'b': 320, 'a': 250, 'e': 60, 'd': 10})\n"
     ]
    }
   ],
   "source": [
    "#5 Combine two dictionaries into one. If a key exists in both dictionaries, then add the values together. \n",
    "from collections import Counter\n",
    "d1 = {'a': 200, 'b': 300, 'c':400}\n",
    "d2 = {'a': 50, 'b': 20, 'd':10, 'e':60 }\n",
    "d = Counter(d1) + Counter(d2)\n",
    "print(d)\n",
    "\n"
   ]
  }
 ],
 "metadata": {
  "kernelspec": {
   "display_name": "Python 3",
   "language": "python",
   "name": "python3"
  },
  "language_info": {
   "codemirror_mode": {
    "name": "ipython",
    "version": 3
   },
   "file_extension": ".py",
   "mimetype": "text/x-python",
   "name": "python",
   "nbconvert_exporter": "python",
   "pygments_lexer": "ipython3",
   "version": "3.7.3"
  }
 },
 "nbformat": 4,
 "nbformat_minor": 2
}
